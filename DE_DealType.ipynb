{
 "cells": [
  {
   "cell_type": "code",
   "execution_count": 38,
   "id": "a1c3c3e6",
   "metadata": {},
   "outputs": [],
   "source": [
    "import pandas as pd\n",
    "import re\n",
    "from scipy.stats import chisquare\n",
    "import seaborn as sns\n",
    "import matplotlib.pyplot as plt\n",
    "import matplotlib.ticker as mtick"
   ]
  },
  {
   "cell_type": "code",
   "execution_count": 12,
   "id": "b8704954",
   "metadata": {},
   "outputs": [
    {
     "name": "stdout",
     "output_type": "stream",
     "text": [
      "['Participant ID', 'Display', 'Spreadsheet: Product', 'Response', 'Position', 'Reaction Time', 'Deal Type', 'Likely to buy', 'Confident in choice', 'Likely to change', 'Attention Check Response', 'Why Response']\n"
     ]
    },
    {
     "data": {
      "text/html": [
       "<div>\n",
       "<style scoped>\n",
       "    .dataframe tbody tr th:only-of-type {\n",
       "        vertical-align: middle;\n",
       "    }\n",
       "\n",
       "    .dataframe tbody tr th {\n",
       "        vertical-align: top;\n",
       "    }\n",
       "\n",
       "    .dataframe thead th {\n",
       "        text-align: right;\n",
       "    }\n",
       "</style>\n",
       "<table border=\"1\" class=\"dataframe\">\n",
       "  <thead>\n",
       "    <tr style=\"text-align: right;\">\n",
       "      <th></th>\n",
       "      <th>Participant ID</th>\n",
       "      <th>Display</th>\n",
       "      <th>Spreadsheet: Product</th>\n",
       "      <th>Response</th>\n",
       "      <th>Position</th>\n",
       "      <th>Reaction Time</th>\n",
       "      <th>Deal Type</th>\n",
       "      <th>Likely to buy</th>\n",
       "      <th>Confident in choice</th>\n",
       "      <th>Likely to change</th>\n",
       "      <th>Attention Check Response</th>\n",
       "      <th>Why Response</th>\n",
       "    </tr>\n",
       "  </thead>\n",
       "  <tbody>\n",
       "    <tr>\n",
       "      <th>0</th>\n",
       "      <td>13397659</td>\n",
       "      <td>3 Discounts Main</td>\n",
       "      <td>Tablet Case.png</td>\n",
       "      <td>$25 (Deal: 10% off)</td>\n",
       "      <td>Position 1</td>\n",
       "      <td>18598.5</td>\n",
       "      <td>Percentage off</td>\n",
       "      <td>3</td>\n",
       "      <td>1</td>\n",
       "      <td>7</td>\n",
       "      <td>3</td>\n",
       "      <td>It's all the same, but 10% looks bigger.</td>\n",
       "    </tr>\n",
       "    <tr>\n",
       "      <th>1</th>\n",
       "      <td>13397659</td>\n",
       "      <td>3 Discounts Main</td>\n",
       "      <td>Phone Charger.png</td>\n",
       "      <td>$15 (Deal: 10% off)</td>\n",
       "      <td>Position 3</td>\n",
       "      <td>6847.8</td>\n",
       "      <td>Percentage off</td>\n",
       "      <td>1</td>\n",
       "      <td>5</td>\n",
       "      <td>7</td>\n",
       "      <td>3</td>\n",
       "      <td>All the same price so I chose the cheapest</td>\n",
       "    </tr>\n",
       "    <tr>\n",
       "      <th>2</th>\n",
       "      <td>13397659</td>\n",
       "      <td>4 Discounts Main</td>\n",
       "      <td>DSLR Lens.png</td>\n",
       "      <td>$960 (Deal: buy 1 get 1 free)</td>\n",
       "      <td>Position 1</td>\n",
       "      <td>13848.7</td>\n",
       "      <td>BOGO</td>\n",
       "      <td>2</td>\n",
       "      <td>5</td>\n",
       "      <td>6</td>\n",
       "      <td>4</td>\n",
       "      <td>It saves more so I can sell the duplicate one</td>\n",
       "    </tr>\n",
       "    <tr>\n",
       "      <th>3</th>\n",
       "      <td>13397659</td>\n",
       "      <td>4 Discounts Main</td>\n",
       "      <td>Sofa.png</td>\n",
       "      <td>$1000 (Deal: $200 off)</td>\n",
       "      <td>Position 3</td>\n",
       "      <td>13065.3</td>\n",
       "      <td>Dollar off</td>\n",
       "      <td>2</td>\n",
       "      <td>5</td>\n",
       "      <td>6</td>\n",
       "      <td>4</td>\n",
       "      <td>Too big so I can't store it and sell it.</td>\n",
       "    </tr>\n",
       "    <tr>\n",
       "      <th>4</th>\n",
       "      <td>13397659</td>\n",
       "      <td>2 Discounts Main</td>\n",
       "      <td>Skincare Kit.png</td>\n",
       "      <td>$90 (Deal: 15% off)</td>\n",
       "      <td>Position 1</td>\n",
       "      <td>14565.8</td>\n",
       "      <td>Percentage off</td>\n",
       "      <td>5</td>\n",
       "      <td>6</td>\n",
       "      <td>6</td>\n",
       "      <td>2</td>\n",
       "      <td>15 looks bigger though they are all the same</td>\n",
       "    </tr>\n",
       "  </tbody>\n",
       "</table>\n",
       "</div>"
      ],
      "text/plain": [
       "   Participant ID           Display Spreadsheet: Product  \\\n",
       "0        13397659  3 Discounts Main      Tablet Case.png   \n",
       "1        13397659  3 Discounts Main    Phone Charger.png   \n",
       "2        13397659  4 Discounts Main        DSLR Lens.png   \n",
       "3        13397659  4 Discounts Main             Sofa.png   \n",
       "4        13397659  2 Discounts Main     Skincare Kit.png   \n",
       "\n",
       "                        Response    Position  Reaction Time       Deal Type  \\\n",
       "0            $25 (Deal: 10% off)  Position 1        18598.5  Percentage off   \n",
       "1            $15 (Deal: 10% off)  Position 3         6847.8  Percentage off   \n",
       "2  $960 (Deal: buy 1 get 1 free)  Position 1        13848.7            BOGO   \n",
       "3         $1000 (Deal: $200 off)  Position 3        13065.3      Dollar off   \n",
       "4            $90 (Deal: 15% off)  Position 1        14565.8  Percentage off   \n",
       "\n",
       "   Likely to buy  Confident in choice  Likely to change  \\\n",
       "0              3                    1                 7   \n",
       "1              1                    5                 7   \n",
       "2              2                    5                 6   \n",
       "3              2                    5                 6   \n",
       "4              5                    6                 6   \n",
       "\n",
       "   Attention Check Response                                   Why Response  \n",
       "0                         3       It's all the same, but 10% looks bigger.  \n",
       "1                         3     All the same price so I chose the cheapest  \n",
       "2                         4  It saves more so I can sell the duplicate one  \n",
       "3                         4       Too big so I can't store it and sell it.  \n",
       "4                         2   15 looks bigger though they are all the same  "
      ]
     },
     "execution_count": 12,
     "metadata": {},
     "output_type": "execute_result"
    }
   ],
   "source": [
    "df = pd.read_csv('/Users/zhangshuyi/Desktop/main_trials.csv')\n",
    "print(list(df.columns))\n",
    "df.head()"
   ]
  },
  {
   "cell_type": "code",
   "execution_count": null,
   "id": "3e51d1dd",
   "metadata": {},
   "outputs": [],
   "source": [
    "# Step 2: Filter to monetarily equivalent trials\n",
    "if 'equivalent_trial' in df.columns:\n",
    "    df_equiv = df[df['equivalent_trial'] == 1].copy()\n",
    "else:\n",
    "    # If no such column, just show all and refine later\n",
    "    df_equiv = df.copy()"
   ]
  },
  {
   "cell_type": "code",
   "execution_count": 13,
   "id": "55174daa",
   "metadata": {},
   "outputs": [],
   "source": [
    "df['base_price'] = (\n",
    "    df['Response']                       # \"$25 (Deal: 10% off)\"\n",
    "      .str.extract(r'\\$(\\d+(?:\\.\\d+)?)') # -> \"25\"\n",
    "      .astype(float)\n",
    ")"
   ]
  },
  {
   "cell_type": "code",
   "execution_count": 17,
   "id": "c665d0c1",
   "metadata": {},
   "outputs": [],
   "source": [
    "df['deal_type'] = (\n",
    "    df['Deal Type']\n",
    "      .str.strip()\n",
    "      .str.lower()\n",
    "      .str.replace(' ', '_')             # \"Dollar off\" -> \"dollar_off\"\n",
    ")"
   ]
  },
  {
   "cell_type": "code",
   "execution_count": null,
   "id": "519745ef",
   "metadata": {},
   "outputs": [],
   "source": [
    "# All data in main trials have monetarily equivalent discounts"
   ]
  },
  {
   "cell_type": "code",
   "execution_count": 28,
   "id": "83ad68d2",
   "metadata": {},
   "outputs": [],
   "source": [
    "df['price_bin'] = pd.qcut(df['base_price'], q=3, labels=['Low', 'Medium', 'High'])"
   ]
  },
  {
   "cell_type": "code",
   "execution_count": null,
   "id": "29c42bde",
   "metadata": {},
   "outputs": [
    {
     "name": "stderr",
     "output_type": "stream",
     "text": [
      "/var/folders/qf/_z697sgn3jx3215w7ykp1p1r0000gn/T/ipykernel_45911/573705727.py:1: FutureWarning: The default of observed=False is deprecated and will be changed to True in a future version of pandas. Pass observed=False to retain current behavior or observed=True to adopt the future default and silence this warning.\n",
      "  counts = df.groupby(['price_bin', 'deal_type']).size().reset_index(name='count')\n"
     ]
    }
   ],
   "source": [
    "# Count how often each deal type is chosen by price level\n",
    "counts = df.groupby(['price_bin', 'deal_type']).size().reset_index(name='count')"
   ]
  },
  {
   "cell_type": "code",
   "execution_count": null,
   "id": "67c5d5ea",
   "metadata": {},
   "outputs": [
    {
     "name": "stderr",
     "output_type": "stream",
     "text": [
      "/var/folders/qf/_z697sgn3jx3215w7ykp1p1r0000gn/T/ipykernel_45911/3209023202.py:1: FutureWarning: The default of observed=False is deprecated and will be changed to True in a future version of pandas. Pass observed=False to retain current behavior or observed=True to adopt the future default and silence this warning.\n",
      "  totals = counts.groupby('price_bin')['count'].sum().reset_index(name='total')\n"
     ]
    }
   ],
   "source": [
    "# Total choices per bin\n",
    "totals = counts.groupby('price_bin')['count'].sum().reset_index(name='total')"
   ]
  },
  {
   "cell_type": "code",
   "execution_count": 31,
   "id": "94824ed8",
   "metadata": {},
   "outputs": [],
   "source": [
    "# Merge totals to compute proportions\n",
    "counts = counts.merge(totals, on='price_bin')\n",
    "counts['proportion'] = counts['count'] / counts['total']"
   ]
  },
  {
   "cell_type": "code",
   "execution_count": 32,
   "id": "34b0f611",
   "metadata": {},
   "outputs": [],
   "source": [
    "# Extract dollar-off proportions only\n",
    "dollar_off_prop = counts[counts['deal_type'] == 'dollar_off']"
   ]
  },
  {
   "cell_type": "code",
   "execution_count": 34,
   "id": "a20b3c9a",
   "metadata": {},
   "outputs": [
    {
     "name": "stdout",
     "output_type": "stream",
     "text": [
      "Proportion of dollar_off choices by price level:\n",
      "\n",
      "  price_bin  proportion\n",
      "1       Low    0.000000\n",
      "5    Medium    0.341463\n",
      "9      High    0.138889 \n",
      "\n"
     ]
    }
   ],
   "source": [
    "print(\"Proportion of dollar_off choices by price level:\\n\")\n",
    "print(dollar_off_prop[['price_bin', 'proportion']], '\\n')"
   ]
  },
  {
   "cell_type": "code",
   "execution_count": 35,
   "id": "032d1954",
   "metadata": {},
   "outputs": [
    {
     "name": "stdout",
     "output_type": "stream",
     "text": [
      "Chi-square tests for dollar_off overrepresentation by price level:\n",
      "\n",
      "Low → Chi2 = 63.51, p = 0.0000\n",
      "Significant: deal type preference present.\n",
      "\n",
      "Medium → Chi2 = 27.78, p = 0.0000\n",
      "Significant: deal type preference present.\n",
      "\n",
      "High → Chi2 = 10.67, p = 0.0137\n",
      "Significant: deal type preference present.\n",
      "\n"
     ]
    }
   ],
   "source": [
    "# Chi-square test: is dollar_off chosen more than expected by chance?\n",
    "print(\"Chi-square tests for dollar_off overrepresentation by price level:\\n\")\n",
    "for level in counts['price_bin'].unique():\n",
    "    subset = counts[counts['price_bin'] == level]\n",
    "    observed = subset['count'].values\n",
    "    expected = [subset['total'].iloc[0] / len(subset)] * len(subset)  # equal expected frequencies\n",
    "    chi2, p = chisquare(f_obs=observed, f_exp=expected)\n",
    "    print(f\"{level} → Chi2 = {chi2:.2f}, p = {p:.4f}\")\n",
    "    if p < 0.05:\n",
    "        print(\"Significant: deal type preference present.\\n\")\n",
    "    else:\n",
    "        print(\"Not significant.\\n\")"
   ]
  },
  {
   "cell_type": "code",
   "execution_count": 41,
   "id": "1d695ec5",
   "metadata": {},
   "outputs": [
    {
     "name": "stderr",
     "output_type": "stream",
     "text": [
      "/var/folders/qf/_z697sgn3jx3215w7ykp1p1r0000gn/T/ipykernel_45911/782911347.py:3: FutureWarning: \n",
      "\n",
      "Passing `palette` without assigning `hue` is deprecated and will be removed in v0.14.0. Assign the `x` variable to `hue` and set `legend=False` for the same effect.\n",
      "\n",
      "  ax = sns.barplot(\n"
     ]
    },
    {
     "data": {
      "image/png": "[encoded data removed]",
      "text/plain": [
       "<Figure size 800x600 with 1 Axes>"
      ]
     },
     "metadata": {},
     "output_type": "display_data"
    }
   ],
   "source": [
    "plt.figure(figsize=(8, 6))\n",
    "\n",
    "ax = sns.barplot(\n",
    "    data=dollar_off_prop,\n",
    "    x='price_bin',\n",
    "    y='proportion',\n",
    "    palette='pastel',\n",
    "    edgecolor='gray'\n",
    ")\n",
    "\n",
    "for patch in ax.patches:\n",
    "    height = patch.get_height()\n",
    "    x = patch.get_x() + patch.get_width() / 2\n",
    "    ax.text(\n",
    "        x=x,\n",
    "        y=height + 0.02,\n",
    "        s=f\"{height * 100:.1f}%\",\n",
    "        ha='center',\n",
    "        va='bottom',\n",
    "        fontsize=11,\n",
    "        fontweight='medium'\n",
    "    )\n",
    "\n",
    "plt.title('Preference for Dollar-Off Discounts Across Price Levels',\n",
    "          fontsize=16, fontweight='bold', pad=20)\n",
    "plt.xlabel('Base Price Level', fontsize=13)\n",
    "plt.ylabel('Proportion of Dollar-Off Choices', fontsize=13)\n",
    "plt.ylim(0, 1.1)\n",
    "ax.yaxis.set_major_formatter(mtick.PercentFormatter(1.0))\n",
    "sns.despine()\n",
    "plt.grid(axis='y', linestyle='--', linewidth=0.5, alpha=0.7)\n",
    "plt.xticks(fontsize=12)\n",
    "plt.yticks(fontsize=12)\n",
    "plt.tight_layout()\n",
    "plt.show()\n"
   ]
  }
 ],
 "metadata": {
  "kernelspec": {
   "display_name": "py39",
   "language": "python",
   "name": "python3"
  },
  "language_info": {
   "codemirror_mode": {
    "name": "ipython",
    "version": 3
   },
   "file_extension": ".py",
   "mimetype": "text/x-python",
   "name": "python",
   "nbconvert_exporter": "python",
   "pygments_lexer": "ipython3",
   "version": "3.10.14"
  }
 },
 "nbformat": 4,
 "nbformat_minor": 5
}
