{
 "cells": [
  {
   "cell_type": "code",
   "execution_count": 14,
   "metadata": {},
   "outputs": [],
   "source": [
    "import pandas as pd\n",
    "import numpy as np\n",
    "import re\n",
    "from scipy.stats import chisquare\n",
    "import seaborn as sns\n",
    "import matplotlib.pyplot as plt\n",
    "import matplotlib.ticker as mtick\n",
    "from sklearn.feature_extraction.text import CountVectorizer\n",
    "from scipy.stats import chisquare          # χ² goodness-of-fit\n",
    "from statsmodels.stats.proportion import proportions_ztest\n",
    "import statsmodels.formula.api as smf\n",
    "import statsmodels.api as sm\n",
    "import scipy.stats as stats"
   ]
  },
  {
   "cell_type": "code",
   "execution_count": 10,
   "metadata": {},
   "outputs": [
    {
     "name": "stdout",
     "output_type": "stream",
     "text": [
      "Observed counts by option-set size:\n",
      " chosen_pos    1   2   3  4\n",
      "num_options               \n",
      "2            18  22   0  0\n",
      "3             6  17  17  0\n",
      "4            11  12   9  8 \n",
      "\n"
     ]
    },
    {
     "data": {
      "image/png": "[encoded data removed]",
      "text/plain": [
       "<Figure size 600x400 with 2 Axes>"
      ]
     },
     "metadata": {},
     "output_type": "display_data"
    }
   ],
   "source": [
    "df = pd.read_csv(\"processed_pilot_data/main_trials.csv\")\n",
    "# ────────────────────────────────────────────────────────────────\n",
    "#  Parse key trial-level variables\n",
    "# ────────────────────────────────────────────────────────────────\n",
    "# a) numeric position that was clicked (1…4)\n",
    "df[\"chosen_pos\"] = df[\"Position\"].str.extract(r\"(\\d+)\").astype(int)\n",
    "\n",
    "# b) number of discounts shown on that screen\n",
    "df[\"num_options\"] = df[\"Display\"].str.extract(r\"(\\d)\").astype(int)\n",
    "\n",
    "# ────────────────────────────────────────────────────────────────\n",
    "#  Descriptive frequency table\n",
    "# ────────────────────────────────────────────────────────────────\n",
    "freq = (\n",
    "    df.groupby([\"num_options\", \"chosen_pos\"])\n",
    "      .size()\n",
    "      .unstack(fill_value=0)\n",
    "      .sort_index()\n",
    ")\n",
    "print(\"Observed counts by option-set size:\\n\", freq, \"\\n\")\n",
    "\n",
    "plt.figure(figsize=(6, 4))\n",
    "plt.imshow(freq.values, aspect='auto', cmap='BuPu')\n",
    "plt.colorbar(label='Count')\n",
    "\n",
    "plt.xticks(np.arange(freq.shape[1]), freq.columns)\n",
    "plt.yticks(np.arange(freq.shape[0]), freq.index)\n",
    "plt.xlabel('Chosen Screen Position')\n",
    "plt.ylabel('Number of Options Displayed')\n",
    "plt.title('Heatmap of Choice Counts (Blue‑Purple Palette)')\n",
    "\n",
    "plt.tight_layout()\n",
    "plt.show()"
   ]
  },
  {
   "cell_type": "code",
   "execution_count": 8,
   "metadata": {},
   "outputs": [
    {
     "name": "stdout",
     "output_type": "stream",
     "text": [
      "Chi-square goodness-of-fit (uniform expectation):\n",
      "  2 options → χ²(1) = 0.40,  p = 0.527\n",
      "  3 options → χ²(2) = 6.05,  p = 0.049\n",
      "  4 options → χ²(3) = 1.00,  p = 0.801\n"
     ]
    }
   ],
   "source": [
    "# ────────────────────────────────────────────────────────────────\n",
    "#  χ² test: is the overall distribution across positions uniform?\n",
    "# ────────────────────────────────────────────────────────────────\n",
    "print(\"Chi-square goodness-of-fit (uniform expectation):\")\n",
    "for n, row in freq.iterrows():\n",
    "    obs = row.values[:n]                               # keep valid positions\n",
    "    exp = np.repeat(obs.sum() / len(obs), len(obs))    # equal probability\n",
    "    chi2, p = chisquare(obs, f_exp=exp)\n",
    "    print(f\"  {n} options → χ²({len(obs)-1}) = {chi2:.2f},  p = {p:.3f}\")\n"
   ]
  },
  {
   "cell_type": "code",
   "execution_count": 9,
   "metadata": {},
   "outputs": [
    {
     "name": "stdout",
     "output_type": "stream",
     "text": [
      "\n",
      "One-sided z-tests vs. chance for bias positions:\n",
      "  2 options → 18/40 bias choices (p̂ = 0.45,  p₀ = 0.50)  z = -0.64,  p = 0.737\n",
      "  3 options → 23/40 bias choices (p̂ = 0.57,  p₀ = 0.67)  z = -1.17,  p = 0.880\n",
      "  4 options → 23/40 bias choices (p̂ = 0.57,  p₀ = 0.50)  z = 0.96,  p = 0.169\n"
     ]
    }
   ],
   "source": [
    "# ────────────────────────────────────────────────────────────────\n",
    "#   Direct test of “earlier / central” bias\n",
    "#       • bias positions = Position 1  OR  the strict centre\n",
    "#       (for even N, the left-central position N/2)\n",
    "# ────────────────────────────────────────────────────────────────\n",
    "def central_pos(n):            # left-centre when N is even\n",
    "    return (n + 1) // 2 if n % 2 else n // 2\n",
    "\n",
    "df[\"is_bias_pos\"] = df.apply(\n",
    "    lambda r: (r[\"chosen_pos\"] == 1) or (r[\"chosen_pos\"] == central_pos(r[\"num_options\"])),\n",
    "    axis=1,\n",
    ")\n",
    "\n",
    "print(\"\\nOne-sided z-tests vs. chance for bias positions:\")\n",
    "for n, grp in df.groupby(\"num_options\"):\n",
    "    succ   = grp[\"is_bias_pos\"].sum()\n",
    "    total  = len(grp)\n",
    "    k_bias = 1 + (central_pos(n) != 1)          # # of bias spots (1 or 2)\n",
    "    p0     = k_bias / n                         # chance level\n",
    "    z, p   = proportions_ztest(succ, total, value=p0, alternative=\"larger\")\n",
    "    print(\n",
    "        f\"  {n} options → {succ}/{total} bias choices \"\n",
    "        f\"(p̂ = {succ/total:.2f},  p₀ = {p0:.2f})  z = {z:.2f},  p = {p:.3f}\"\n",
    "    )"
   ]
  },
  {
   "cell_type": "code",
   "execution_count": 15,
   "metadata": {},
   "outputs": [
    {
     "name": "stdout",
     "output_type": "stream",
     "text": [
      "Counts by deal type and position:\n",
      "Position         1   2   3  4\n",
      "Deal Type                    \n",
      "BOGO             6   4   4  3\n",
      "Dollar off       6   9   3  1\n",
      "Now price        4  12   6  3\n",
      "Percentage off  19  26  13  1\n",
      "\n",
      "\n"
     ]
    }
   ],
   "source": [
    "# Cross‑tab: Position × Deal Type\n",
    "crosstab = (\n",
    "    df.groupby(['Deal Type', 'chosen_pos'])\n",
    "      .size()\n",
    "      .unstack(fill_value=0)\n",
    "      .rename_axis(columns='Position')\n",
    ")\n",
    "print(\"Counts by deal type and position:\")\n",
    "print(crosstab.to_string())\n",
    "print(\"\\n\")\n"
   ]
  },
  {
   "cell_type": "markdown",
   "metadata": {},
   "source": [
    "We can see that the discout frame is not evenly distributed in the four positions when we look together. And in the descriptive study, 60% participants choose percentage off."
   ]
  },
  {
   "cell_type": "code",
   "execution_count": 21,
   "metadata": {},
   "outputs": [
    {
     "name": "stdout",
     "output_type": "stream",
     "text": [
      "                              Generalized Linear Model Regression Results                              \n",
      "=======================================================================================================\n",
      "Dep. Variable:     ['is_bias_pos[False]', 'is_bias_pos[True]']   No. Observations:                  120\n",
      "Model:                                                     GLM   Df Residuals:                      113\n",
      "Model Family:                                         Binomial   Df Model:                            6\n",
      "Link Function:                                           Logit   Scale:                          1.0000\n",
      "Method:                                                   IRLS   Log-Likelihood:                -81.622\n",
      "Date:                                         Wed, 21 May 2025   Deviance:                       163.24\n",
      "Time:                                                 14:37:57   Pearson chi2:                     120.\n",
      "No. Iterations:                                              4   Pseudo R-squ. (CS):            0.02125\n",
      "Covariance Type:                                     nonrobust                                         \n",
      "==================================================================================================\n",
      "                                     coef    std err          z      P>|z|      [0.025      0.975]\n",
      "--------------------------------------------------------------------------------------------------\n",
      "Intercept                         -0.1537      0.787     -0.195      0.845      -1.695       1.388\n",
      "C(num_options)[T.3]               -0.3409      0.485     -0.703      0.482      -1.292       0.610\n",
      "C(num_options)[T.4]               -0.1877      0.637     -0.295      0.768      -1.435       1.060\n",
      "C(Deal_Type)[T.Dollar off]         0.3940      0.796      0.495      0.621      -1.167       1.955\n",
      "C(Deal_Type)[T.Now price]         -0.1289      0.728     -0.177      0.859      -1.555       1.297\n",
      "C(Deal_Type)[T.Percentage off]     0.3564      0.764      0.466      0.641      -1.142       1.855\n",
      "Reaction_Time                  -9.477e-07   6.93e-06     -0.137      0.891   -1.45e-05    1.26e-05\n",
      "==================================================================================================\n"
     ]
    }
   ],
   "source": [
    "def central_pos(n):\n",
    "    return (n + 1) // 2 if n % 2 else n // 2\n",
    "\n",
    "df['is_bias_pos'] = df.apply(\n",
    "    lambda r: (r['chosen_pos'] == 1) or (r['chosen_pos'] == central_pos(r['num_options'])),\n",
    "    axis=1,\n",
    ")\n",
    "df = df.rename(columns={'Reaction Time': 'Reaction_Time', 'Deal Type': 'Deal_Type'})\n",
    "model = smf.glm(\n",
    "    'is_bias_pos ~ C(num_options) + C(Deal_Type) + Reaction_Time',\n",
    "    data=df,\n",
    "    family=sm.families.Binomial()\n",
    ").fit()\n",
    "print(model.summary())"
   ]
  },
  {
   "cell_type": "code",
   "execution_count": 23,
   "metadata": {},
   "outputs": [
    {
     "name": "stdout",
     "output_type": "stream",
     "text": [
      "\n",
      "Reaction Time ~ Position ANOVA F = 2.49 p = 0.0638\n"
     ]
    }
   ],
   "source": [
    "# ANOVA: Reaction Time by chosen position\n",
    "anova_res = stats.f_oneway(\n",
    "    *[df.loc[df.chosen_pos == p, 'Reaction_Time'] for p in sorted(df.chosen_pos.unique())]\n",
    ")\n",
    "print(\"\\nReaction Time ~ Position ANOVA F =\", round(anova_res.statistic, 2), \n",
    "      \"p =\", round(anova_res.pvalue, 4))\n"
   ]
  },
  {
   "cell_type": "code",
   "execution_count": 24,
   "metadata": {},
   "outputs": [
    {
     "name": "stdout",
     "output_type": "stream",
     "text": [
      "\n",
      "Likely to buy ~ Position ANOVA F = 0.45 p = 0.7159\n"
     ]
    }
   ],
   "source": [
    "# ANOVA:  Likely‑to‑buy by chosen position\n",
    "anova_res = stats.f_oneway(\n",
    "    *[df.loc[df.chosen_pos == p, 'Likely to buy'] for p in sorted(df.chosen_pos.unique())]\n",
    ")\n",
    "print(\"\\nLikely to buy ~ Position ANOVA F =\", round(anova_res.statistic, 2), \n",
    "      \"p =\", round(anova_res.pvalue, 4))"
   ]
  },
  {
   "cell_type": "code",
   "execution_count": 20,
   "metadata": {},
   "outputs": [
    {
     "data": {
      "image/png": "[encoded data removed]",
      "text/plain": [
       "<Figure size 400x300 with 1 Axes>"
      ]
     },
     "metadata": {},
     "output_type": "display_data"
    }
   ],
   "source": [
    "# Plot Likely‑to‑buy by position\n",
    "means = df.groupby('chosen_pos')['Likely to buy'].mean()\n",
    "plt.figure(figsize=(4,3))\n",
    "means.plot(kind='bar')\n",
    "plt.xlabel('Chosen Position')\n",
    "plt.ylabel('Mean Likely‑to‑Buy (1‑7)')\n",
    "plt.title('Self‑reported Purchase Likelihood by Position')\n",
    "plt.tight_layout()\n",
    "plt.show()"
   ]
  }
 ],
 "metadata": {
  "kernelspec": {
   "display_name": "MACS30135PY39",
   "language": "python",
   "name": "python3"
  },
  "language_info": {
   "codemirror_mode": {
    "name": "ipython",
    "version": 3
   },
   "file_extension": ".py",
   "mimetype": "text/x-python",
   "name": "python",
   "nbconvert_exporter": "python",
   "pygments_lexer": "ipython3",
   "version": "3.9.21"
  }
 },
 "nbformat": 4,
 "nbformat_minor": 2
}
